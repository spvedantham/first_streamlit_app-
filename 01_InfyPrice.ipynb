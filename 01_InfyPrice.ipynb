{
  "nbformat": 4,
  "nbformat_minor": 0,
  "metadata": {
    "colab": {
      "provenance": [],
      "authorship_tag": "ABX9TyOa1vK41Lddz9Hfmt5CYJEe",
      "include_colab_link": true
    },
    "kernelspec": {
      "name": "python3",
      "display_name": "Python 3"
    },
    "language_info": {
      "name": "python"
    }
  },
  "cells": [
    {
      "cell_type": "markdown",
      "metadata": {
        "id": "view-in-github",
        "colab_type": "text"
      },
      "source": [
        "<a href=\"https://colab.research.google.com/github/spvedantham/first_streamlit_app-/blob/main/01_InfyPrice.ipynb\" target=\"_parent\"><img src=\"https://colab.research.google.com/assets/colab-badge.svg\" alt=\"Open In Colab\"/></a>"
      ]
    },
    {
      "cell_type": "code",
      "execution_count": 1,
      "metadata": {
        "id": "WbBVbekcoX_c"
      },
      "outputs": [],
      "source": [
        "urlB = \"https://www.google.com/finance/quote/500209:BOM\"\n",
        "urlN = \"https://www.google.com/finance/quote/INFY:NSE\"\n"
      ]
    },
    {
      "cell_type": "code",
      "source": [
        "import requests\n",
        "from bs4 import BeautifulSoup\n",
        "import time\n",
        "\n",
        "ticker = \"INFY\"\n",
        "exchange = \"NSE\"\n",
        "\n",
        "url = f\"https://www.google.com/finance/quote/{ticker}:{exchange}\n",
        "\n",
        "\n",
        "response = requests.get(url)\n",
        "soup = BeautifulSoup(response.text, \"html.parser\")\n",
        "\n",
        "class1 =\"YMlKec fxKbKc\"\n",
        "price = float(soup.find(class_=class1).text.strip()[1:].replace(\",\",\"\"))\n",
        "\n",
        "price"
      ],
      "metadata": {
        "colab": {
          "base_uri": "https://localhost:8080/"
        },
        "id": "Cg3K4R9lpkQY",
        "outputId": "66c2230b-6c72-401e-c3b9-9857cc38646a"
      },
      "execution_count": 9,
      "outputs": [
        {
          "output_type": "execute_result",
          "data": {
            "text/plain": [
              "1868.3"
            ]
          },
          "metadata": {},
          "execution_count": 9
        }
      ]
    },
    {
      "cell_type": "code",
      "source": [
        "class1 =\"YMlKec fxKbKc\"\n",
        "float(soup.find(class_=class1).text.strip()[1:].replace(\",\",\"\"))\n"
      ],
      "metadata": {
        "colab": {
          "base_uri": "https://localhost:8080/"
        },
        "id": "HkYvOAEaqc5H",
        "outputId": "6a675bfa-d082-4271-9879-96dab390c46f"
      },
      "execution_count": 8,
      "outputs": [
        {
          "output_type": "execute_result",
          "data": {
            "text/plain": [
              "1868.3"
            ]
          },
          "metadata": {},
          "execution_count": 8
        }
      ]
    }
  ]
}